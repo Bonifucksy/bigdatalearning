{
  "nbformat": 4,
  "nbformat_minor": 0,
  "metadata": {
    "colab": {
      "name": "BD_HW_1.ipynb",
      "version": "0.3.2",
      "provenance": [],
      "collapsed_sections": [],
      "include_colab_link": true
    },
    "kernelspec": {
      "name": "python3",
      "display_name": "Python 3"
    }
  },
  "cells": [
    {
      "cell_type": "markdown",
      "metadata": {
        "id": "view-in-github",
        "colab_type": "text"
      },
      "source": [
        "<a href=\"https://colab.research.google.com/github/Bonifucksy/bigdatalearning/blob/master/BD_HW_1.ipynb\" target=\"_parent\"><img src=\"https://colab.research.google.com/assets/colab-badge.svg\" alt=\"Open In Colab\"/></a>"
      ]
    },
    {
      "cell_type": "code",
      "metadata": {
        "id": "w-nb9x_ubeve",
        "colab_type": "code",
        "colab": {}
      },
      "source": [
        "import numpy as np\n",
        "import pandas as pd\n",
        "import matplotlib.pyplot as plt\n",
        "import seaborn as sns\n",
        "%matplotlib inline\n",
        "sns.set()\n",
        "\n",
        "import warnings\n",
        "warnings.filterwarnings(\"ignore\", category=FutureWarning)\n",
        "#warnings.filterwarnings(\"ignore\", category=DeprecationWarning)\n",
        "#warnings.filterwarnings(\"ignore\")"
      ],
      "execution_count": 0,
      "outputs": []
    },
    {
      "cell_type": "code",
      "metadata": {
        "id": "MOM79UmEcQ41",
        "colab_type": "code",
        "colab": {
          "base_uri": "https://localhost:8080/",
          "height": 34
        },
        "outputId": "ee80ebad-a547-45b5-f822-50474e0149b3"
      },
      "source": [
        "sns.__version__"
      ],
      "execution_count": 3,
      "outputs": [
        {
          "output_type": "execute_result",
          "data": {
            "text/plain": [
              "'0.9.0'"
            ]
          },
          "metadata": {
            "tags": []
          },
          "execution_count": 3
        }
      ]
    },
    {
      "cell_type": "code",
      "metadata": {
        "id": "o87KGCmnccDS",
        "colab_type": "code",
        "colab": {}
      },
      "source": [
        "data = pd.read_csv(\"abalone.csv\")"
      ],
      "execution_count": 0,
      "outputs": []
    },
    {
      "cell_type": "code",
      "metadata": {
        "id": "eqrQ7_e6cljR",
        "colab_type": "code",
        "colab": {
          "base_uri": "https://localhost:8080/",
          "height": 204
        },
        "outputId": "7fd0dfc9-39a1-4546-f17c-cb06b22deced"
      },
      "source": [
        "data.head()"
      ],
      "execution_count": 5,
      "outputs": [
        {
          "output_type": "execute_result",
          "data": {
            "text/html": [
              "<div>\n",
              "<style scoped>\n",
              "    .dataframe tbody tr th:only-of-type {\n",
              "        vertical-align: middle;\n",
              "    }\n",
              "\n",
              "    .dataframe tbody tr th {\n",
              "        vertical-align: top;\n",
              "    }\n",
              "\n",
              "    .dataframe thead th {\n",
              "        text-align: right;\n",
              "    }\n",
              "</style>\n",
              "<table border=\"1\" class=\"dataframe\">\n",
              "  <thead>\n",
              "    <tr style=\"text-align: right;\">\n",
              "      <th></th>\n",
              "      <th>Sex</th>\n",
              "      <th>Length</th>\n",
              "      <th>Diameter</th>\n",
              "      <th>Height</th>\n",
              "      <th>Whole weight</th>\n",
              "      <th>Shucked weight</th>\n",
              "      <th>Viscera weight</th>\n",
              "      <th>Shell weight</th>\n",
              "      <th>Rings</th>\n",
              "    </tr>\n",
              "  </thead>\n",
              "  <tbody>\n",
              "    <tr>\n",
              "      <th>0</th>\n",
              "      <td>M</td>\n",
              "      <td>0.455</td>\n",
              "      <td>0.365</td>\n",
              "      <td>0.095</td>\n",
              "      <td>0.5140</td>\n",
              "      <td>0.2245</td>\n",
              "      <td>0.1010</td>\n",
              "      <td>0.150</td>\n",
              "      <td>15</td>\n",
              "    </tr>\n",
              "    <tr>\n",
              "      <th>1</th>\n",
              "      <td>M</td>\n",
              "      <td>0.350</td>\n",
              "      <td>0.265</td>\n",
              "      <td>0.090</td>\n",
              "      <td>0.2255</td>\n",
              "      <td>0.0995</td>\n",
              "      <td>0.0485</td>\n",
              "      <td>0.070</td>\n",
              "      <td>7</td>\n",
              "    </tr>\n",
              "    <tr>\n",
              "      <th>2</th>\n",
              "      <td>F</td>\n",
              "      <td>0.530</td>\n",
              "      <td>0.420</td>\n",
              "      <td>0.135</td>\n",
              "      <td>0.6770</td>\n",
              "      <td>0.2565</td>\n",
              "      <td>0.1415</td>\n",
              "      <td>0.210</td>\n",
              "      <td>9</td>\n",
              "    </tr>\n",
              "    <tr>\n",
              "      <th>3</th>\n",
              "      <td>M</td>\n",
              "      <td>0.440</td>\n",
              "      <td>0.365</td>\n",
              "      <td>0.125</td>\n",
              "      <td>0.5160</td>\n",
              "      <td>0.2155</td>\n",
              "      <td>0.1140</td>\n",
              "      <td>0.155</td>\n",
              "      <td>10</td>\n",
              "    </tr>\n",
              "    <tr>\n",
              "      <th>4</th>\n",
              "      <td>I</td>\n",
              "      <td>0.330</td>\n",
              "      <td>0.255</td>\n",
              "      <td>0.080</td>\n",
              "      <td>0.2050</td>\n",
              "      <td>0.0895</td>\n",
              "      <td>0.0395</td>\n",
              "      <td>0.055</td>\n",
              "      <td>7</td>\n",
              "    </tr>\n",
              "  </tbody>\n",
              "</table>\n",
              "</div>"
            ],
            "text/plain": [
              "  Sex  Length  Diameter  ...  Viscera weight  Shell weight  Rings\n",
              "0   M   0.455     0.365  ...          0.1010         0.150     15\n",
              "1   M   0.350     0.265  ...          0.0485         0.070      7\n",
              "2   F   0.530     0.420  ...          0.1415         0.210      9\n",
              "3   M   0.440     0.365  ...          0.1140         0.155     10\n",
              "4   I   0.330     0.255  ...          0.0395         0.055      7\n",
              "\n",
              "[5 rows x 9 columns]"
            ]
          },
          "metadata": {
            "tags": []
          },
          "execution_count": 5
        }
      ]
    },
    {
      "cell_type": "code",
      "metadata": {
        "id": "4Q5zB65bcndq",
        "colab_type": "code",
        "colab": {}
      },
      "source": [
        "#убрать из имён столбцов заглавные и заменить пробел на подчёркивание\n",
        "data.columns = data.columns.str.strip().str.lower().str.replace(' ', '_').str.replace('(', '').str.replace(')', '')"
      ],
      "execution_count": 0,
      "outputs": []
    },
    {
      "cell_type": "code",
      "metadata": {
        "id": "QVyzxZV-cvqp",
        "colab_type": "code",
        "colab": {
          "base_uri": "https://localhost:8080/",
          "height": 204
        },
        "outputId": "b9f5358d-9884-44e0-d002-56ac5309c157"
      },
      "source": [
        "data.head()"
      ],
      "execution_count": 7,
      "outputs": [
        {
          "output_type": "execute_result",
          "data": {
            "text/html": [
              "<div>\n",
              "<style scoped>\n",
              "    .dataframe tbody tr th:only-of-type {\n",
              "        vertical-align: middle;\n",
              "    }\n",
              "\n",
              "    .dataframe tbody tr th {\n",
              "        vertical-align: top;\n",
              "    }\n",
              "\n",
              "    .dataframe thead th {\n",
              "        text-align: right;\n",
              "    }\n",
              "</style>\n",
              "<table border=\"1\" class=\"dataframe\">\n",
              "  <thead>\n",
              "    <tr style=\"text-align: right;\">\n",
              "      <th></th>\n",
              "      <th>sex</th>\n",
              "      <th>length</th>\n",
              "      <th>diameter</th>\n",
              "      <th>height</th>\n",
              "      <th>whole_weight</th>\n",
              "      <th>shucked_weight</th>\n",
              "      <th>viscera_weight</th>\n",
              "      <th>shell_weight</th>\n",
              "      <th>rings</th>\n",
              "    </tr>\n",
              "  </thead>\n",
              "  <tbody>\n",
              "    <tr>\n",
              "      <th>0</th>\n",
              "      <td>M</td>\n",
              "      <td>0.455</td>\n",
              "      <td>0.365</td>\n",
              "      <td>0.095</td>\n",
              "      <td>0.5140</td>\n",
              "      <td>0.2245</td>\n",
              "      <td>0.1010</td>\n",
              "      <td>0.150</td>\n",
              "      <td>15</td>\n",
              "    </tr>\n",
              "    <tr>\n",
              "      <th>1</th>\n",
              "      <td>M</td>\n",
              "      <td>0.350</td>\n",
              "      <td>0.265</td>\n",
              "      <td>0.090</td>\n",
              "      <td>0.2255</td>\n",
              "      <td>0.0995</td>\n",
              "      <td>0.0485</td>\n",
              "      <td>0.070</td>\n",
              "      <td>7</td>\n",
              "    </tr>\n",
              "    <tr>\n",
              "      <th>2</th>\n",
              "      <td>F</td>\n",
              "      <td>0.530</td>\n",
              "      <td>0.420</td>\n",
              "      <td>0.135</td>\n",
              "      <td>0.6770</td>\n",
              "      <td>0.2565</td>\n",
              "      <td>0.1415</td>\n",
              "      <td>0.210</td>\n",
              "      <td>9</td>\n",
              "    </tr>\n",
              "    <tr>\n",
              "      <th>3</th>\n",
              "      <td>M</td>\n",
              "      <td>0.440</td>\n",
              "      <td>0.365</td>\n",
              "      <td>0.125</td>\n",
              "      <td>0.5160</td>\n",
              "      <td>0.2155</td>\n",
              "      <td>0.1140</td>\n",
              "      <td>0.155</td>\n",
              "      <td>10</td>\n",
              "    </tr>\n",
              "    <tr>\n",
              "      <th>4</th>\n",
              "      <td>I</td>\n",
              "      <td>0.330</td>\n",
              "      <td>0.255</td>\n",
              "      <td>0.080</td>\n",
              "      <td>0.2050</td>\n",
              "      <td>0.0895</td>\n",
              "      <td>0.0395</td>\n",
              "      <td>0.055</td>\n",
              "      <td>7</td>\n",
              "    </tr>\n",
              "  </tbody>\n",
              "</table>\n",
              "</div>"
            ],
            "text/plain": [
              "  sex  length  diameter  ...  viscera_weight  shell_weight  rings\n",
              "0   M   0.455     0.365  ...          0.1010         0.150     15\n",
              "1   M   0.350     0.265  ...          0.0485         0.070      7\n",
              "2   F   0.530     0.420  ...          0.1415         0.210      9\n",
              "3   M   0.440     0.365  ...          0.1140         0.155     10\n",
              "4   I   0.330     0.255  ...          0.0395         0.055      7\n",
              "\n",
              "[5 rows x 9 columns]"
            ]
          },
          "metadata": {
            "tags": []
          },
          "execution_count": 7
        }
      ]
    },
    {
      "cell_type": "code",
      "metadata": {
        "id": "klnZMTkYcxcx",
        "colab_type": "code",
        "colab": {
          "base_uri": "https://localhost:8080/",
          "height": 255
        },
        "outputId": "6d6719c2-f53b-452a-fcbb-1b623787c717"
      },
      "source": [
        "data.info()"
      ],
      "execution_count": 8,
      "outputs": [
        {
          "output_type": "stream",
          "text": [
            "<class 'pandas.core.frame.DataFrame'>\n",
            "RangeIndex: 4177 entries, 0 to 4176\n",
            "Data columns (total 9 columns):\n",
            "sex               4177 non-null object\n",
            "length            4177 non-null float64\n",
            "diameter          4177 non-null float64\n",
            "height            4177 non-null float64\n",
            "whole_weight      4177 non-null float64\n",
            "shucked_weight    4177 non-null float64\n",
            "viscera_weight    4177 non-null float64\n",
            "shell_weight      4177 non-null float64\n",
            "rings             4177 non-null int64\n",
            "dtypes: float64(7), int64(1), object(1)\n",
            "memory usage: 293.8+ KB\n"
          ],
          "name": "stdout"
        }
      ]
    },
    {
      "cell_type": "code",
      "metadata": {
        "id": "NnH6acV-c0Tx",
        "colab_type": "code",
        "colab": {
          "base_uri": "https://localhost:8080/",
          "height": 317
        },
        "outputId": "7f26ecef-d87d-4d98-830a-7a24bda034fd"
      },
      "source": [
        "data.describe()"
      ],
      "execution_count": 9,
      "outputs": [
        {
          "output_type": "execute_result",
          "data": {
            "text/html": [
              "<div>\n",
              "<style scoped>\n",
              "    .dataframe tbody tr th:only-of-type {\n",
              "        vertical-align: middle;\n",
              "    }\n",
              "\n",
              "    .dataframe tbody tr th {\n",
              "        vertical-align: top;\n",
              "    }\n",
              "\n",
              "    .dataframe thead th {\n",
              "        text-align: right;\n",
              "    }\n",
              "</style>\n",
              "<table border=\"1\" class=\"dataframe\">\n",
              "  <thead>\n",
              "    <tr style=\"text-align: right;\">\n",
              "      <th></th>\n",
              "      <th>length</th>\n",
              "      <th>diameter</th>\n",
              "      <th>height</th>\n",
              "      <th>whole_weight</th>\n",
              "      <th>shucked_weight</th>\n",
              "      <th>viscera_weight</th>\n",
              "      <th>shell_weight</th>\n",
              "      <th>rings</th>\n",
              "    </tr>\n",
              "  </thead>\n",
              "  <tbody>\n",
              "    <tr>\n",
              "      <th>count</th>\n",
              "      <td>4177.000000</td>\n",
              "      <td>4177.000000</td>\n",
              "      <td>4177.000000</td>\n",
              "      <td>4177.000000</td>\n",
              "      <td>4177.000000</td>\n",
              "      <td>4177.000000</td>\n",
              "      <td>4177.000000</td>\n",
              "      <td>4177.000000</td>\n",
              "    </tr>\n",
              "    <tr>\n",
              "      <th>mean</th>\n",
              "      <td>0.523992</td>\n",
              "      <td>0.407881</td>\n",
              "      <td>0.139516</td>\n",
              "      <td>0.828742</td>\n",
              "      <td>0.359367</td>\n",
              "      <td>0.180594</td>\n",
              "      <td>0.238831</td>\n",
              "      <td>9.933684</td>\n",
              "    </tr>\n",
              "    <tr>\n",
              "      <th>std</th>\n",
              "      <td>0.120093</td>\n",
              "      <td>0.099240</td>\n",
              "      <td>0.041827</td>\n",
              "      <td>0.490389</td>\n",
              "      <td>0.221963</td>\n",
              "      <td>0.109614</td>\n",
              "      <td>0.139203</td>\n",
              "      <td>3.224169</td>\n",
              "    </tr>\n",
              "    <tr>\n",
              "      <th>min</th>\n",
              "      <td>0.075000</td>\n",
              "      <td>0.055000</td>\n",
              "      <td>0.000000</td>\n",
              "      <td>0.002000</td>\n",
              "      <td>0.001000</td>\n",
              "      <td>0.000500</td>\n",
              "      <td>0.001500</td>\n",
              "      <td>1.000000</td>\n",
              "    </tr>\n",
              "    <tr>\n",
              "      <th>25%</th>\n",
              "      <td>0.450000</td>\n",
              "      <td>0.350000</td>\n",
              "      <td>0.115000</td>\n",
              "      <td>0.441500</td>\n",
              "      <td>0.186000</td>\n",
              "      <td>0.093500</td>\n",
              "      <td>0.130000</td>\n",
              "      <td>8.000000</td>\n",
              "    </tr>\n",
              "    <tr>\n",
              "      <th>50%</th>\n",
              "      <td>0.545000</td>\n",
              "      <td>0.425000</td>\n",
              "      <td>0.140000</td>\n",
              "      <td>0.799500</td>\n",
              "      <td>0.336000</td>\n",
              "      <td>0.171000</td>\n",
              "      <td>0.234000</td>\n",
              "      <td>9.000000</td>\n",
              "    </tr>\n",
              "    <tr>\n",
              "      <th>75%</th>\n",
              "      <td>0.615000</td>\n",
              "      <td>0.480000</td>\n",
              "      <td>0.165000</td>\n",
              "      <td>1.153000</td>\n",
              "      <td>0.502000</td>\n",
              "      <td>0.253000</td>\n",
              "      <td>0.329000</td>\n",
              "      <td>11.000000</td>\n",
              "    </tr>\n",
              "    <tr>\n",
              "      <th>max</th>\n",
              "      <td>0.815000</td>\n",
              "      <td>0.650000</td>\n",
              "      <td>1.130000</td>\n",
              "      <td>2.825500</td>\n",
              "      <td>1.488000</td>\n",
              "      <td>0.760000</td>\n",
              "      <td>1.005000</td>\n",
              "      <td>29.000000</td>\n",
              "    </tr>\n",
              "  </tbody>\n",
              "</table>\n",
              "</div>"
            ],
            "text/plain": [
              "            length     diameter  ...  shell_weight        rings\n",
              "count  4177.000000  4177.000000  ...   4177.000000  4177.000000\n",
              "mean      0.523992     0.407881  ...      0.238831     9.933684\n",
              "std       0.120093     0.099240  ...      0.139203     3.224169\n",
              "min       0.075000     0.055000  ...      0.001500     1.000000\n",
              "25%       0.450000     0.350000  ...      0.130000     8.000000\n",
              "50%       0.545000     0.425000  ...      0.234000     9.000000\n",
              "75%       0.615000     0.480000  ...      0.329000    11.000000\n",
              "max       0.815000     0.650000  ...      1.005000    29.000000\n",
              "\n",
              "[8 rows x 8 columns]"
            ]
          },
          "metadata": {
            "tags": []
          },
          "execution_count": 9
        }
      ]
    },
    {
      "cell_type": "code",
      "metadata": {
        "id": "Gh1-P0OIc7LR",
        "colab_type": "code",
        "colab": {
          "base_uri": "https://localhost:8080/",
          "height": 291
        },
        "outputId": "99997849-2416-4fa8-f6b9-893c47c19b05"
      },
      "source": [
        "sns.countplot(x='sex', data=data);"
      ],
      "execution_count": 20,
      "outputs": [
        {
          "output_type": "display_data",
          "data": {
            "image/png": "[encoded data removed]",
            "text/plain": [
              "<Figure size 432x288 with 1 Axes>"
            ]
          },
          "metadata": {
            "tags": []
          }
        }
      ]
    },
    {
      "cell_type": "code",
      "metadata": {
        "id": "rhLYJNxGdWpJ",
        "colab_type": "code",
        "colab": {
          "base_uri": "https://localhost:8080/",
          "height": 1088
        },
        "outputId": "7c00e7b7-a7c0-4fea-de76-9a760b0c2a32"
      },
      "source": [
        "#Кол-во представителей каждого пола с одинаковым показателем \"длинны\"\n",
        "data.groupby(['sex','length'])['sex'].count()"
      ],
      "execution_count": 21,
      "outputs": [
        {
          "output_type": "execute_result",
          "data": {
            "text/plain": [
              "sex  length\n",
              "F    0.275      1\n",
              "     0.290      2\n",
              "     0.305      2\n",
              "     0.325      1\n",
              "     0.330      1\n",
              "     0.335      1\n",
              "     0.340      1\n",
              "     0.345      3\n",
              "     0.350      2\n",
              "     0.360      3\n",
              "     0.370      7\n",
              "     0.375      4\n",
              "     0.380      6\n",
              "     0.385      4\n",
              "     0.390      2\n",
              "     0.395      3\n",
              "     0.400      6\n",
              "     0.405      4\n",
              "     0.410      4\n",
              "     0.415      5\n",
              "     0.420      2\n",
              "     0.425      5\n",
              "     0.430      6\n",
              "     0.435      9\n",
              "     0.440     10\n",
              "     0.445      5\n",
              "     0.450     14\n",
              "     0.455     11\n",
              "     0.460     12\n",
              "     0.465     11\n",
              "               ..\n",
              "M    0.635     27\n",
              "     0.640     27\n",
              "     0.645     36\n",
              "     0.650     39\n",
              "     0.655     21\n",
              "     0.660     22\n",
              "     0.665     15\n",
              "     0.670     21\n",
              "     0.675     11\n",
              "     0.680     13\n",
              "     0.685     12\n",
              "     0.690     11\n",
              "     0.695     16\n",
              "     0.700     15\n",
              "     0.705      5\n",
              "     0.710     10\n",
              "     0.715      7\n",
              "     0.720     14\n",
              "     0.725      6\n",
              "     0.730      3\n",
              "     0.735      7\n",
              "     0.740      5\n",
              "     0.745      3\n",
              "     0.750      3\n",
              "     0.755      1\n",
              "     0.760      2\n",
              "     0.765      2\n",
              "     0.770      3\n",
              "     0.775      2\n",
              "     0.780      1\n",
              "Name: sex, Length: 317, dtype: int64"
            ]
          },
          "metadata": {
            "tags": []
          },
          "execution_count": 21
        }
      ]
    },
    {
      "cell_type": "code",
      "metadata": {
        "id": "YDlbJ05Ydyfk",
        "colab_type": "code",
        "colab": {
          "base_uri": "https://localhost:8080/",
          "height": 402
        },
        "outputId": "85647718-f5bf-4f29-f5d0-42b8aaef5476"
      },
      "source": [
        "#кол-во представителей каждого пола с определённым кол-вом \"колец\"\n",
        "sns.catplot (x='sex', col='rings', kind='count', data=data)"
      ],
      "execution_count": 22,
      "outputs": [
        {
          "output_type": "execute_result",
          "data": {
            "text/plain": [
              "<seaborn.axisgrid.FacetGrid at 0x7f2f69250ac8>"
            ]
          },
          "metadata": {
            "tags": []
          },
          "execution_count": 22
        },
        {
          "output_type": "display_data",
          "data": {
            "image/png": "[encoded data removed]",
            "text/plain": [
              "<Figure size 10080x360 with 28 Axes>"
            ]
          },
          "metadata": {
            "tags": []
          }
        }
      ]
    },
    {
      "cell_type": "code",
      "metadata": {
        "id": "_pY6jC-oiOyP",
        "colab_type": "code",
        "colab": {
          "base_uri": "https://localhost:8080/",
          "height": 68
        },
        "outputId": "fe0a03d7-2937-47a3-9c7a-8596d65d380a"
      },
      "source": [
        "#среднее кол-во колец на \"пол\"\n",
        "print (\"female \", data[data.sex == 'F'].rings.mean())\n",
        "print (\"male \", data[data.sex == 'M'].rings.mean())\n",
        "print (\"somebody else \", data[data.sex == 'I'].rings.mean())"
      ],
      "execution_count": 25,
      "outputs": [
        {
          "output_type": "stream",
          "text": [
            "female  11.129303749043611\n",
            "male  10.705497382198953\n",
            "somebody else  7.890461997019374\n"
          ],
          "name": "stdout"
        }
      ]
    },
    {
      "cell_type": "code",
      "metadata": {
        "id": "F-B_Gj57kO15",
        "colab_type": "code",
        "colab": {
          "base_uri": "https://localhost:8080/",
          "height": 670
        },
        "outputId": "0fffdb02-8560-4794-8b6d-04a50342213a"
      },
      "source": [
        "#показываем кол-во колец в зависимости от пола\n",
        "pd.crosstab(data.rings, data.sex, margins=True).style.background_gradient(cmap='autumn_r')"
      ],
      "execution_count": 38,
      "outputs": [
        {
          "output_type": "execute_result",
          "data": {
            "text/html": [
              "<style  type=\"text/css\" >\n",
              "    #T_c9546040_8459_11e9_abf5_0242ac1c0002row0_col0 {\n",
              "            background-color:  #ffff00;\n",
              "            color:  #000000;\n",
              "        }    #T_c9546040_8459_11e9_abf5_0242ac1c0002row0_col1 {\n",
              "            background-color:  #ffff00;\n",
              "            color:  #000000;\n",
              "        }    #T_c9546040_8459_11e9_abf5_0242ac1c0002row0_col2 {\n",
              "            background-color:  #ffff00;\n",
              "            color:  #000000;\n",
              "        }    #T_c9546040_8459_11e9_abf5_0242ac1c0002row0_col3 {\n",
              "            background-color:  #ffff00;\n",
              "            color:  #000000;\n",
              "        }    #T_c9546040_8459_11e9_abf5_0242ac1c0002row1_col0 {\n",
              "            background-color:  #ffff00;\n",
              "            color:  #000000;\n",
              "        }    #T_c9546040_8459_11e9_abf5_0242ac1c0002row1_col1 {\n",
              "            background-color:  #ffff00;\n",
              "            color:  #000000;\n",
              "        }    #T_c9546040_8459_11e9_abf5_0242ac1c0002row1_col2 {\n",
              "            background-color:  #ffff00;\n",
              "            color:  #000000;\n",
              "        }    #T_c9546040_8459_11e9_abf5_0242ac1c0002row1_col3 {\n",
              "            background-color:  #ffff00;\n",
              "            color:  #000000;\n",
              "        }    #T_c9546040_8459_11e9_abf5_0242ac1c0002row2_col0 {\n",
              "            background-color:  #ffff00;\n",
              "            color:  #000000;\n",
              "        }    #T_c9546040_8459_11e9_abf5_0242ac1c0002row2_col1 {\n",
              "            background-color:  #fffd00;\n",
              "            color:  #000000;\n",
              "        }    #T_c9546040_8459_11e9_abf5_0242ac1c0002row2_col2 {\n",
              "            background-color:  #ffff00;\n",
              "            color:  #000000;\n",
              "        }    #T_c9546040_8459_11e9_abf5_0242ac1c0002row2_col3 {\n",
              "            background-color:  #ffff00;\n",
              "            color:  #000000;\n",
              "        }    #T_c9546040_8459_11e9_abf5_0242ac1c0002row3_col0 {\n",
              "            background-color:  #ffff00;\n",
              "            color:  #000000;\n",
              "        }    #T_c9546040_8459_11e9_abf5_0242ac1c0002row3_col1 {\n",
              "            background-color:  #fff600;\n",
              "            color:  #000000;\n",
              "        }    #T_c9546040_8459_11e9_abf5_0242ac1c0002row3_col2 {\n",
              "            background-color:  #fffe00;\n",
              "            color:  #000000;\n",
              "        }    #T_c9546040_8459_11e9_abf5_0242ac1c0002row3_col3 {\n",
              "            background-color:  #fffc00;\n",
              "            color:  #000000;\n",
              "        }    #T_c9546040_8459_11e9_abf5_0242ac1c0002row4_col0 {\n",
              "            background-color:  #ffff00;\n",
              "            color:  #000000;\n",
              "        }    #T_c9546040_8459_11e9_abf5_0242ac1c0002row4_col1 {\n",
              "            background-color:  #ffec00;\n",
              "            color:  #000000;\n",
              "        }    #T_c9546040_8459_11e9_abf5_0242ac1c0002row4_col2 {\n",
              "            background-color:  #fffe00;\n",
              "            color:  #000000;\n",
              "        }    #T_c9546040_8459_11e9_abf5_0242ac1c0002row4_col3 {\n",
              "            background-color:  #fff900;\n",
              "            color:  #000000;\n",
              "        }    #T_c9546040_8459_11e9_abf5_0242ac1c0002row5_col0 {\n",
              "            background-color:  #fffc00;\n",
              "            color:  #000000;\n",
              "        }    #T_c9546040_8459_11e9_abf5_0242ac1c0002row5_col1 {\n",
              "            background-color:  #ffd600;\n",
              "            color:  #000000;\n",
              "        }    #T_c9546040_8459_11e9_abf5_0242ac1c0002row5_col2 {\n",
              "            background-color:  #fffb00;\n",
              "            color:  #000000;\n",
              "        }    #T_c9546040_8459_11e9_abf5_0242ac1c0002row5_col3 {\n",
              "            background-color:  #fff000;\n",
              "            color:  #000000;\n",
              "        }    #T_c9546040_8459_11e9_abf5_0242ac1c0002row6_col0 {\n",
              "            background-color:  #fff700;\n",
              "            color:  #000000;\n",
              "        }    #T_c9546040_8459_11e9_abf5_0242ac1c0002row6_col1 {\n",
              "            background-color:  #ffcd00;\n",
              "            color:  #000000;\n",
              "        }    #T_c9546040_8459_11e9_abf5_0242ac1c0002row6_col2 {\n",
              "            background-color:  #fff200;\n",
              "            color:  #000000;\n",
              "        }    #T_c9546040_8459_11e9_abf5_0242ac1c0002row6_col3 {\n",
              "            background-color:  #ffe800;\n",
              "            color:  #000000;\n",
              "        }    #T_c9546040_8459_11e9_abf5_0242ac1c0002row7_col0 {\n",
              "            background-color:  #ffe800;\n",
              "            color:  #000000;\n",
              "        }    #T_c9546040_8459_11e9_abf5_0242ac1c0002row7_col1 {\n",
              "            background-color:  #ffcb00;\n",
              "            color:  #000000;\n",
              "        }    #T_c9546040_8459_11e9_abf5_0242ac1c0002row7_col2 {\n",
              "            background-color:  #ffe300;\n",
              "            color:  #000000;\n",
              "        }    #T_c9546040_8459_11e9_abf5_0242ac1c0002row7_col3 {\n",
              "            background-color:  #ffdd00;\n",
              "            color:  #000000;\n",
              "        }    #T_c9546040_8459_11e9_abf5_0242ac1c0002row8_col0 {\n",
              "            background-color:  #ffd100;\n",
              "            color:  #000000;\n",
              "        }    #T_c9546040_8459_11e9_abf5_0242ac1c0002row8_col1 {\n",
              "            background-color:  #ffde00;\n",
              "            color:  #000000;\n",
              "        }    #T_c9546040_8459_11e9_abf5_0242ac1c0002row8_col2 {\n",
              "            background-color:  #ffd100;\n",
              "            color:  #000000;\n",
              "        }    #T_c9546040_8459_11e9_abf5_0242ac1c0002row8_col3 {\n",
              "            background-color:  #ffd500;\n",
              "            color:  #000000;\n",
              "        }    #T_c9546040_8459_11e9_abf5_0242ac1c0002row9_col0 {\n",
              "            background-color:  #ffcf00;\n",
              "            color:  #000000;\n",
              "        }    #T_c9546040_8459_11e9_abf5_0242ac1c0002row9_col1 {\n",
              "            background-color:  #ffee00;\n",
              "            color:  #000000;\n",
              "        }    #T_c9546040_8459_11e9_abf5_0242ac1c0002row9_col2 {\n",
              "            background-color:  #ffce00;\n",
              "            color:  #000000;\n",
              "        }    #T_c9546040_8459_11e9_abf5_0242ac1c0002row9_col3 {\n",
              "            background-color:  #ffd900;\n",
              "            color:  #000000;\n",
              "        }    #T_c9546040_8459_11e9_abf5_0242ac1c0002row10_col0 {\n",
              "            background-color:  #ffd800;\n",
              "            color:  #000000;\n",
              "        }    #T_c9546040_8459_11e9_abf5_0242ac1c0002row10_col1 {\n",
              "            background-color:  #fff400;\n",
              "            color:  #000000;\n",
              "        }    #T_c9546040_8459_11e9_abf5_0242ac1c0002row10_col2 {\n",
              "            background-color:  #ffda00;\n",
              "            color:  #000000;\n",
              "        }    #T_c9546040_8459_11e9_abf5_0242ac1c0002row10_col3 {\n",
              "            background-color:  #ffe200;\n",
              "            color:  #000000;\n",
              "        }    #T_c9546040_8459_11e9_abf5_0242ac1c0002row11_col0 {\n",
              "            background-color:  #ffe600;\n",
              "            color:  #000000;\n",
              "        }    #T_c9546040_8459_11e9_abf5_0242ac1c0002row11_col1 {\n",
              "            background-color:  #fffb00;\n",
              "            color:  #000000;\n",
              "        }    #T_c9546040_8459_11e9_abf5_0242ac1c0002row11_col2 {\n",
              "            background-color:  #ffec00;\n",
              "            color:  #000000;\n",
              "        }    #T_c9546040_8459_11e9_abf5_0242ac1c0002row11_col3 {\n",
              "            background-color:  #ffef00;\n",
              "            color:  #000000;\n",
              "        }    #T_c9546040_8459_11e9_abf5_0242ac1c0002row12_col0 {\n",
              "            background-color:  #ffee00;\n",
              "            color:  #000000;\n",
              "        }    #T_c9546040_8459_11e9_abf5_0242ac1c0002row12_col1 {\n",
              "            background-color:  #fffb00;\n",
              "            color:  #000000;\n",
              "        }    #T_c9546040_8459_11e9_abf5_0242ac1c0002row12_col2 {\n",
              "            background-color:  #fff000;\n",
              "            color:  #000000;\n",
              "        }    #T_c9546040_8459_11e9_abf5_0242ac1c0002row12_col3 {\n",
              "            background-color:  #fff300;\n",
              "            color:  #000000;\n",
              "        }    #T_c9546040_8459_11e9_abf5_0242ac1c0002row13_col0 {\n",
              "            background-color:  #fff500;\n",
              "            color:  #000000;\n",
              "        }    #T_c9546040_8459_11e9_abf5_0242ac1c0002row13_col1 {\n",
              "            background-color:  #fffd00;\n",
              "            color:  #000000;\n",
              "        }    #T_c9546040_8459_11e9_abf5_0242ac1c0002row13_col2 {\n",
              "            background-color:  #fff600;\n",
              "            color:  #000000;\n",
              "        }    #T_c9546040_8459_11e9_abf5_0242ac1c0002row13_col3 {\n",
              "            background-color:  #fff800;\n",
              "            color:  #000000;\n",
              "        }    #T_c9546040_8459_11e9_abf5_0242ac1c0002row14_col0 {\n",
              "            background-color:  #fff700;\n",
              "            color:  #000000;\n",
              "        }    #T_c9546040_8459_11e9_abf5_0242ac1c0002row14_col1 {\n",
              "            background-color:  #fffe00;\n",
              "            color:  #000000;\n",
              "        }    #T_c9546040_8459_11e9_abf5_0242ac1c0002row14_col2 {\n",
              "            background-color:  #fff700;\n",
              "            color:  #000000;\n",
              "        }    #T_c9546040_8459_11e9_abf5_0242ac1c0002row14_col3 {\n",
              "            background-color:  #fff900;\n",
              "            color:  #000000;\n",
              "        }    #T_c9546040_8459_11e9_abf5_0242ac1c0002row15_col0 {\n",
              "            background-color:  #fffa00;\n",
              "            color:  #000000;\n",
              "        }    #T_c9546040_8459_11e9_abf5_0242ac1c0002row15_col1 {\n",
              "            background-color:  #fffe00;\n",
              "            color:  #000000;\n",
              "        }    #T_c9546040_8459_11e9_abf5_0242ac1c0002row15_col2 {\n",
              "            background-color:  #fffa00;\n",
              "            color:  #000000;\n",
              "        }    #T_c9546040_8459_11e9_abf5_0242ac1c0002row15_col3 {\n",
              "            background-color:  #fffb00;\n",
              "            color:  #000000;\n",
              "        }    #T_c9546040_8459_11e9_abf5_0242ac1c0002row16_col0 {\n",
              "            background-color:  #fffa00;\n",
              "            color:  #000000;\n",
              "        }    #T_c9546040_8459_11e9_abf5_0242ac1c0002row16_col1 {\n",
              "            background-color:  #fffe00;\n",
              "            color:  #000000;\n",
              "        }    #T_c9546040_8459_11e9_abf5_0242ac1c0002row16_col2 {\n",
              "            background-color:  #fffb00;\n",
              "            color:  #000000;\n",
              "        }    #T_c9546040_8459_11e9_abf5_0242ac1c0002row16_col3 {\n",
              "            background-color:  #fffc00;\n",
              "            color:  #000000;\n",
              "        }    #T_c9546040_8459_11e9_abf5_0242ac1c0002row17_col0 {\n",
              "            background-color:  #fffc00;\n",
              "            color:  #000000;\n",
              "        }    #T_c9546040_8459_11e9_abf5_0242ac1c0002row17_col1 {\n",
              "            background-color:  #ffff00;\n",
              "            color:  #000000;\n",
              "        }    #T_c9546040_8459_11e9_abf5_0242ac1c0002row17_col2 {\n",
              "            background-color:  #fffc00;\n",
              "            color:  #000000;\n",
              "        }    #T_c9546040_8459_11e9_abf5_0242ac1c0002row17_col3 {\n",
              "            background-color:  #fffd00;\n",
              "            color:  #000000;\n",
              "        }    #T_c9546040_8459_11e9_abf5_0242ac1c0002row18_col0 {\n",
              "            background-color:  #fffd00;\n",
              "            color:  #000000;\n",
              "        }    #T_c9546040_8459_11e9_abf5_0242ac1c0002row18_col1 {\n",
              "            background-color:  #ffff00;\n",
              "            color:  #000000;\n",
              "        }    #T_c9546040_8459_11e9_abf5_0242ac1c0002row18_col2 {\n",
              "            background-color:  #fffd00;\n",
              "            color:  #000000;\n",
              "        }    #T_c9546040_8459_11e9_abf5_0242ac1c0002row18_col3 {\n",
              "            background-color:  #fffe00;\n",
              "            color:  #000000;\n",
              "        }    #T_c9546040_8459_11e9_abf5_0242ac1c0002row19_col0 {\n",
              "            background-color:  #fffd00;\n",
              "            color:  #000000;\n",
              "        }    #T_c9546040_8459_11e9_abf5_0242ac1c0002row19_col1 {\n",
              "            background-color:  #ffff00;\n",
              "            color:  #000000;\n",
              "        }    #T_c9546040_8459_11e9_abf5_0242ac1c0002row19_col2 {\n",
              "            background-color:  #fffd00;\n",
              "            color:  #000000;\n",
              "        }    #T_c9546040_8459_11e9_abf5_0242ac1c0002row19_col3 {\n",
              "            background-color:  #fffe00;\n",
              "            color:  #000000;\n",
              "        }    #T_c9546040_8459_11e9_abf5_0242ac1c0002row20_col0 {\n",
              "            background-color:  #fffe00;\n",
              "            color:  #000000;\n",
              "        }    #T_c9546040_8459_11e9_abf5_0242ac1c0002row20_col1 {\n",
              "            background-color:  #ffff00;\n",
              "            color:  #000000;\n",
              "        }    #T_c9546040_8459_11e9_abf5_0242ac1c0002row20_col2 {\n",
              "            background-color:  #fffe00;\n",
              "            color:  #000000;\n",
              "        }    #T_c9546040_8459_11e9_abf5_0242ac1c0002row20_col3 {\n",
              "            background-color:  #ffff00;\n",
              "            color:  #000000;\n",
              "        }    #T_c9546040_8459_11e9_abf5_0242ac1c0002row21_col0 {\n",
              "            background-color:  #ffff00;\n",
              "            color:  #000000;\n",
              "        }    #T_c9546040_8459_11e9_abf5_0242ac1c0002row21_col1 {\n",
              "            background-color:  #ffff00;\n",
              "            color:  #000000;\n",
              "        }    #T_c9546040_8459_11e9_abf5_0242ac1c0002row21_col2 {\n",
              "            background-color:  #ffff00;\n",
              "            color:  #000000;\n",
              "        }    #T_c9546040_8459_11e9_abf5_0242ac1c0002row21_col3 {\n",
              "            background-color:  #ffff00;\n",
              "            color:  #000000;\n",
              "        }    #T_c9546040_8459_11e9_abf5_0242ac1c0002row22_col0 {\n",
              "            background-color:  #fffe00;\n",
              "            color:  #000000;\n",
              "        }    #T_c9546040_8459_11e9_abf5_0242ac1c0002row22_col1 {\n",
              "            background-color:  #ffff00;\n",
              "            color:  #000000;\n",
              "        }    #T_c9546040_8459_11e9_abf5_0242ac1c0002row22_col2 {\n",
              "            background-color:  #ffff00;\n",
              "            color:  #000000;\n",
              "        }    #T_c9546040_8459_11e9_abf5_0242ac1c0002row22_col3 {\n",
              "            background-color:  #ffff00;\n",
              "            color:  #000000;\n",
              "        }    #T_c9546040_8459_11e9_abf5_0242ac1c0002row23_col0 {\n",
              "            background-color:  #ffff00;\n",
              "            color:  #000000;\n",
              "        }    #T_c9546040_8459_11e9_abf5_0242ac1c0002row23_col1 {\n",
              "            background-color:  #ffff00;\n",
              "            color:  #000000;\n",
              "        }    #T_c9546040_8459_11e9_abf5_0242ac1c0002row23_col2 {\n",
              "            background-color:  #ffff00;\n",
              "            color:  #000000;\n",
              "        }    #T_c9546040_8459_11e9_abf5_0242ac1c0002row23_col3 {\n",
              "            background-color:  #ffff00;\n",
              "            color:  #000000;\n",
              "        }    #T_c9546040_8459_11e9_abf5_0242ac1c0002row24_col0 {\n",
              "            background-color:  #ffff00;\n",
              "            color:  #000000;\n",
              "        }    #T_c9546040_8459_11e9_abf5_0242ac1c0002row24_col1 {\n",
              "            background-color:  #ffff00;\n",
              "            color:  #000000;\n",
              "        }    #T_c9546040_8459_11e9_abf5_0242ac1c0002row24_col2 {\n",
              "            background-color:  #ffff00;\n",
              "            color:  #000000;\n",
              "        }    #T_c9546040_8459_11e9_abf5_0242ac1c0002row24_col3 {\n",
              "            background-color:  #ffff00;\n",
              "            color:  #000000;\n",
              "        }    #T_c9546040_8459_11e9_abf5_0242ac1c0002row25_col0 {\n",
              "            background-color:  #ffff00;\n",
              "            color:  #000000;\n",
              "        }    #T_c9546040_8459_11e9_abf5_0242ac1c0002row25_col1 {\n",
              "            background-color:  #ffff00;\n",
              "            color:  #000000;\n",
              "        }    #T_c9546040_8459_11e9_abf5_0242ac1c0002row25_col2 {\n",
              "            background-color:  #ffff00;\n",
              "            color:  #000000;\n",
              "        }    #T_c9546040_8459_11e9_abf5_0242ac1c0002row25_col3 {\n",
              "            background-color:  #ffff00;\n",
              "            color:  #000000;\n",
              "        }    #T_c9546040_8459_11e9_abf5_0242ac1c0002row26_col0 {\n",
              "            background-color:  #ffff00;\n",
              "            color:  #000000;\n",
              "        }    #T_c9546040_8459_11e9_abf5_0242ac1c0002row26_col1 {\n",
              "            background-color:  #ffff00;\n",
              "            color:  #000000;\n",
              "        }    #T_c9546040_8459_11e9_abf5_0242ac1c0002row26_col2 {\n",
              "            background-color:  #ffff00;\n",
              "            color:  #000000;\n",
              "        }    #T_c9546040_8459_11e9_abf5_0242ac1c0002row26_col3 {\n",
              "            background-color:  #ffff00;\n",
              "            color:  #000000;\n",
              "        }    #T_c9546040_8459_11e9_abf5_0242ac1c0002row27_col0 {\n",
              "            background-color:  #ffff00;\n",
              "            color:  #000000;\n",
              "        }    #T_c9546040_8459_11e9_abf5_0242ac1c0002row27_col1 {\n",
              "            background-color:  #ffff00;\n",
              "            color:  #000000;\n",
              "        }    #T_c9546040_8459_11e9_abf5_0242ac1c0002row27_col2 {\n",
              "            background-color:  #ffff00;\n",
              "            color:  #000000;\n",
              "        }    #T_c9546040_8459_11e9_abf5_0242ac1c0002row27_col3 {\n",
              "            background-color:  #ffff00;\n",
              "            color:  #000000;\n",
              "        }    #T_c9546040_8459_11e9_abf5_0242ac1c0002row28_col0 {\n",
              "            background-color:  #ff0000;\n",
              "            color:  #f1f1f1;\n",
              "        }    #T_c9546040_8459_11e9_abf5_0242ac1c0002row28_col1 {\n",
              "            background-color:  #ff0000;\n",
              "            color:  #f1f1f1;\n",
              "        }    #T_c9546040_8459_11e9_abf5_0242ac1c0002row28_col2 {\n",
              "            background-color:  #ff0000;\n",
              "            color:  #f1f1f1;\n",
              "        }    #T_c9546040_8459_11e9_abf5_0242ac1c0002row28_col3 {\n",
              "            background-color:  #ff0000;\n",
              "            color:  #f1f1f1;\n",
              "        }</style><table id=\"T_c9546040_8459_11e9_abf5_0242ac1c0002\" ><thead>    <tr>        <th class=\"index_name level0\" >sex</th>        <th class=\"col_heading level0 col0\" >F</th>        <th class=\"col_heading level0 col1\" >I</th>        <th class=\"col_heading level0 col2\" >M</th>        <th class=\"col_heading level0 col3\" >All</th>    </tr>    <tr>        <th class=\"index_name level0\" >rings</th>        <th class=\"blank\" ></th>        <th class=\"blank\" ></th>        <th class=\"blank\" ></th>        <th class=\"blank\" ></th>    </tr></thead><tbody>\n",
              "                <tr>\n",
              "                        <th id=\"T_c9546040_8459_11e9_abf5_0242ac1c0002level0_row0\" class=\"row_heading level0 row0\" >1</th>\n",
              "                        <td id=\"T_c9546040_8459_11e9_abf5_0242ac1c0002row0_col0\" class=\"data row0 col0\" >0</td>\n",
              "                        <td id=\"T_c9546040_8459_11e9_abf5_0242ac1c0002row0_col1\" class=\"data row0 col1\" >1</td>\n",
              "                        <td id=\"T_c9546040_8459_11e9_abf5_0242ac1c0002row0_col2\" class=\"data row0 col2\" >0</td>\n",
              "                        <td id=\"T_c9546040_8459_11e9_abf5_0242ac1c0002row0_col3\" class=\"data row0 col3\" >1</td>\n",
              "            </tr>\n",
              "            <tr>\n",
              "                        <th id=\"T_c9546040_8459_11e9_abf5_0242ac1c0002level0_row1\" class=\"row_heading level0 row1\" >2</th>\n",
              "                        <td id=\"T_c9546040_8459_11e9_abf5_0242ac1c0002row1_col0\" class=\"data row1 col0\" >0</td>\n",
              "                        <td id=\"T_c9546040_8459_11e9_abf5_0242ac1c0002row1_col1\" class=\"data row1 col1\" >1</td>\n",
              "                        <td id=\"T_c9546040_8459_11e9_abf5_0242ac1c0002row1_col2\" class=\"data row1 col2\" >0</td>\n",
              "                        <td id=\"T_c9546040_8459_11e9_abf5_0242ac1c0002row1_col3\" class=\"data row1 col3\" >1</td>\n",
              "            </tr>\n",
              "            <tr>\n",
              "                        <th id=\"T_c9546040_8459_11e9_abf5_0242ac1c0002level0_row2\" class=\"row_heading level0 row2\" >3</th>\n",
              "                        <td id=\"T_c9546040_8459_11e9_abf5_0242ac1c0002row2_col0\" class=\"data row2 col0\" >0</td>\n",
              "                        <td id=\"T_c9546040_8459_11e9_abf5_0242ac1c0002row2_col1\" class=\"data row2 col1\" >12</td>\n",
              "                        <td id=\"T_c9546040_8459_11e9_abf5_0242ac1c0002row2_col2\" class=\"data row2 col2\" >3</td>\n",
              "                        <td id=\"T_c9546040_8459_11e9_abf5_0242ac1c0002row2_col3\" class=\"data row2 col3\" >15</td>\n",
              "            </tr>\n",
              "            <tr>\n",
              "                        <th id=\"T_c9546040_8459_11e9_abf5_0242ac1c0002level0_row3\" class=\"row_heading level0 row3\" >4</th>\n",
              "                        <td id=\"T_c9546040_8459_11e9_abf5_0242ac1c0002row3_col0\" class=\"data row3 col0\" >0</td>\n",
              "                        <td id=\"T_c9546040_8459_11e9_abf5_0242ac1c0002row3_col1\" class=\"data row3 col1\" >51</td>\n",
              "                        <td id=\"T_c9546040_8459_11e9_abf5_0242ac1c0002row3_col2\" class=\"data row3 col2\" >6</td>\n",
              "                        <td id=\"T_c9546040_8459_11e9_abf5_0242ac1c0002row3_col3\" class=\"data row3 col3\" >57</td>\n",
              "            </tr>\n",
              "            <tr>\n",
              "                        <th id=\"T_c9546040_8459_11e9_abf5_0242ac1c0002level0_row4\" class=\"row_heading level0 row4\" >5</th>\n",
              "                        <td id=\"T_c9546040_8459_11e9_abf5_0242ac1c0002row4_col0\" class=\"data row4 col0\" >4</td>\n",
              "                        <td id=\"T_c9546040_8459_11e9_abf5_0242ac1c0002row4_col1\" class=\"data row4 col1\" >100</td>\n",
              "                        <td id=\"T_c9546040_8459_11e9_abf5_0242ac1c0002row4_col2\" class=\"data row4 col2\" >11</td>\n",
              "                        <td id=\"T_c9546040_8459_11e9_abf5_0242ac1c0002row4_col3\" class=\"data row4 col3\" >115</td>\n",
              "            </tr>\n",
              "            <tr>\n",
              "                        <th id=\"T_c9546040_8459_11e9_abf5_0242ac1c0002level0_row5\" class=\"row_heading level0 row5\" >6</th>\n",
              "                        <td id=\"T_c9546040_8459_11e9_abf5_0242ac1c0002row5_col0\" class=\"data row5 col0\" >16</td>\n",
              "                        <td id=\"T_c9546040_8459_11e9_abf5_0242ac1c0002row5_col1\" class=\"data row5 col1\" >216</td>\n",
              "                        <td id=\"T_c9546040_8459_11e9_abf5_0242ac1c0002row5_col2\" class=\"data row5 col2\" >27</td>\n",
              "                        <td id=\"T_c9546040_8459_11e9_abf5_0242ac1c0002row5_col3\" class=\"data row5 col3\" >259</td>\n",
              "            </tr>\n",
              "            <tr>\n",
              "                        <th id=\"T_c9546040_8459_11e9_abf5_0242ac1c0002level0_row6\" class=\"row_heading level0 row6\" >7</th>\n",
              "                        <td id=\"T_c9546040_8459_11e9_abf5_0242ac1c0002row6_col0\" class=\"data row6 col0\" >44</td>\n",
              "                        <td id=\"T_c9546040_8459_11e9_abf5_0242ac1c0002row6_col1\" class=\"data row6 col1\" >267</td>\n",
              "                        <td id=\"T_c9546040_8459_11e9_abf5_0242ac1c0002row6_col2\" class=\"data row6 col2\" >80</td>\n",
              "                        <td id=\"T_c9546040_8459_11e9_abf5_0242ac1c0002row6_col3\" class=\"data row6 col3\" >391</td>\n",
              "            </tr>\n",
              "            <tr>\n",
              "                        <th id=\"T_c9546040_8459_11e9_abf5_0242ac1c0002level0_row7\" class=\"row_heading level0 row7\" >8</th>\n",
              "                        <td id=\"T_c9546040_8459_11e9_abf5_0242ac1c0002row7_col0\" class=\"data row7 col0\" >122</td>\n",
              "                        <td id=\"T_c9546040_8459_11e9_abf5_0242ac1c0002row7_col1\" class=\"data row7 col1\" >274</td>\n",
              "                        <td id=\"T_c9546040_8459_11e9_abf5_0242ac1c0002row7_col2\" class=\"data row7 col2\" >172</td>\n",
              "                        <td id=\"T_c9546040_8459_11e9_abf5_0242ac1c0002row7_col3\" class=\"data row7 col3\" >568</td>\n",
              "            </tr>\n",
              "            <tr>\n",
              "                        <th id=\"T_c9546040_8459_11e9_abf5_0242ac1c0002level0_row8\" class=\"row_heading level0 row8\" >9</th>\n",
              "                        <td id=\"T_c9546040_8459_11e9_abf5_0242ac1c0002row8_col0\" class=\"data row8 col0\" >238</td>\n",
              "                        <td id=\"T_c9546040_8459_11e9_abf5_0242ac1c0002row8_col1\" class=\"data row8 col1\" >173</td>\n",
              "                        <td id=\"T_c9546040_8459_11e9_abf5_0242ac1c0002row8_col2\" class=\"data row8 col2\" >278</td>\n",
              "                        <td id=\"T_c9546040_8459_11e9_abf5_0242ac1c0002row8_col3\" class=\"data row8 col3\" >689</td>\n",
              "            </tr>\n",
              "            <tr>\n",
              "                        <th id=\"T_c9546040_8459_11e9_abf5_0242ac1c0002level0_row9\" class=\"row_heading level0 row9\" >10</th>\n",
              "                        <td id=\"T_c9546040_8459_11e9_abf5_0242ac1c0002row9_col0\" class=\"data row9 col0\" >248</td>\n",
              "                        <td id=\"T_c9546040_8459_11e9_abf5_0242ac1c0002row9_col1\" class=\"data row9 col1\" >92</td>\n",
              "                        <td id=\"T_c9546040_8459_11e9_abf5_0242ac1c0002row9_col2\" class=\"data row9 col2\" >294</td>\n",
              "                        <td id=\"T_c9546040_8459_11e9_abf5_0242ac1c0002row9_col3\" class=\"data row9 col3\" >634</td>\n",
              "            </tr>\n",
              "            <tr>\n",
              "                        <th id=\"T_c9546040_8459_11e9_abf5_0242ac1c0002level0_row10\" class=\"row_heading level0 row10\" >11</th>\n",
              "                        <td id=\"T_c9546040_8459_11e9_abf5_0242ac1c0002row10_col0\" class=\"data row10 col0\" >200</td>\n",
              "                        <td id=\"T_c9546040_8459_11e9_abf5_0242ac1c0002row10_col1\" class=\"data row10 col1\" >62</td>\n",
              "                        <td id=\"T_c9546040_8459_11e9_abf5_0242ac1c0002row10_col2\" class=\"data row10 col2\" >225</td>\n",
              "                        <td id=\"T_c9546040_8459_11e9_abf5_0242ac1c0002row10_col3\" class=\"data row10 col3\" >487</td>\n",
              "            </tr>\n",
              "            <tr>\n",
              "                        <th id=\"T_c9546040_8459_11e9_abf5_0242ac1c0002level0_row11\" class=\"row_heading level0 row11\" >12</th>\n",
              "                        <td id=\"T_c9546040_8459_11e9_abf5_0242ac1c0002row11_col0\" class=\"data row11 col0\" >128</td>\n",
              "                        <td id=\"T_c9546040_8459_11e9_abf5_0242ac1c0002row11_col1\" class=\"data row11 col1\" >21</td>\n",
              "                        <td id=\"T_c9546040_8459_11e9_abf5_0242ac1c0002row11_col2\" class=\"data row11 col2\" >118</td>\n",
              "                        <td id=\"T_c9546040_8459_11e9_abf5_0242ac1c0002row11_col3\" class=\"data row11 col3\" >267</td>\n",
              "            </tr>\n",
              "            <tr>\n",
              "                        <th id=\"T_c9546040_8459_11e9_abf5_0242ac1c0002level0_row12\" class=\"row_heading level0 row12\" >13</th>\n",
              "                        <td id=\"T_c9546040_8459_11e9_abf5_0242ac1c0002row12_col0\" class=\"data row12 col0\" >88</td>\n",
              "                        <td id=\"T_c9546040_8459_11e9_abf5_0242ac1c0002row12_col1\" class=\"data row12 col1\" >24</td>\n",
              "                        <td id=\"T_c9546040_8459_11e9_abf5_0242ac1c0002row12_col2\" class=\"data row12 col2\" >91</td>\n",
              "                        <td id=\"T_c9546040_8459_11e9_abf5_0242ac1c0002row12_col3\" class=\"data row12 col3\" >203</td>\n",
              "            </tr>\n",
              "            <tr>\n",
              "                        <th id=\"T_c9546040_8459_11e9_abf5_0242ac1c0002level0_row13\" class=\"row_heading level0 row13\" >14</th>\n",
              "                        <td id=\"T_c9546040_8459_11e9_abf5_0242ac1c0002row13_col0\" class=\"data row13 col0\" >56</td>\n",
              "                        <td id=\"T_c9546040_8459_11e9_abf5_0242ac1c0002row13_col1\" class=\"data row13 col1\" >14</td>\n",
              "                        <td id=\"T_c9546040_8459_11e9_abf5_0242ac1c0002row13_col2\" class=\"data row13 col2\" >56</td>\n",
              "                        <td id=\"T_c9546040_8459_11e9_abf5_0242ac1c0002row13_col3\" class=\"data row13 col3\" >126</td>\n",
              "            </tr>\n",
              "            <tr>\n",
              "                        <th id=\"T_c9546040_8459_11e9_abf5_0242ac1c0002level0_row14\" class=\"row_heading level0 row14\" >15</th>\n",
              "                        <td id=\"T_c9546040_8459_11e9_abf5_0242ac1c0002row14_col0\" class=\"data row14 col0\" >41</td>\n",
              "                        <td id=\"T_c9546040_8459_11e9_abf5_0242ac1c0002row14_col1\" class=\"data row14 col1\" >10</td>\n",
              "                        <td id=\"T_c9546040_8459_11e9_abf5_0242ac1c0002row14_col2\" class=\"data row14 col2\" >52</td>\n",
              "                        <td id=\"T_c9546040_8459_11e9_abf5_0242ac1c0002row14_col3\" class=\"data row14 col3\" >103</td>\n",
              "            </tr>\n",
              "            <tr>\n",
              "                        <th id=\"T_c9546040_8459_11e9_abf5_0242ac1c0002level0_row15\" class=\"row_heading level0 row15\" >16</th>\n",
              "                        <td id=\"T_c9546040_8459_11e9_abf5_0242ac1c0002row15_col0\" class=\"data row15 col0\" >30</td>\n",
              "                        <td id=\"T_c9546040_8459_11e9_abf5_0242ac1c0002row15_col1\" class=\"data row15 col1\" >7</td>\n",
              "                        <td id=\"T_c9546040_8459_11e9_abf5_0242ac1c0002row15_col2\" class=\"data row15 col2\" >30</td>\n",
              "                        <td id=\"T_c9546040_8459_11e9_abf5_0242ac1c0002row15_col3\" class=\"data row15 col3\" >67</td>\n",
              "            </tr>\n",
              "            <tr>\n",
              "                        <th id=\"T_c9546040_8459_11e9_abf5_0242ac1c0002level0_row16\" class=\"row_heading level0 row16\" >17</th>\n",
              "                        <td id=\"T_c9546040_8459_11e9_abf5_0242ac1c0002row16_col0\" class=\"data row16 col0\" >26</td>\n",
              "                        <td id=\"T_c9546040_8459_11e9_abf5_0242ac1c0002row16_col1\" class=\"data row16 col1\" >7</td>\n",
              "                        <td id=\"T_c9546040_8459_11e9_abf5_0242ac1c0002row16_col2\" class=\"data row16 col2\" >25</td>\n",
              "                        <td id=\"T_c9546040_8459_11e9_abf5_0242ac1c0002row16_col3\" class=\"data row16 col3\" >58</td>\n",
              "            </tr>\n",
              "            <tr>\n",
              "                        <th id=\"T_c9546040_8459_11e9_abf5_0242ac1c0002level0_row17\" class=\"row_heading level0 row17\" >18</th>\n",
              "                        <td id=\"T_c9546040_8459_11e9_abf5_0242ac1c0002row17_col0\" class=\"data row17 col0\" >19</td>\n",
              "                        <td id=\"T_c9546040_8459_11e9_abf5_0242ac1c0002row17_col1\" class=\"data row17 col1\" >5</td>\n",
              "                        <td id=\"T_c9546040_8459_11e9_abf5_0242ac1c0002row17_col2\" class=\"data row17 col2\" >18</td>\n",
              "                        <td id=\"T_c9546040_8459_11e9_abf5_0242ac1c0002row17_col3\" class=\"data row17 col3\" >42</td>\n",
              "            </tr>\n",
              "            <tr>\n",
              "                        <th id=\"T_c9546040_8459_11e9_abf5_0242ac1c0002level0_row18\" class=\"row_heading level0 row18\" >19</th>\n",
              "                        <td id=\"T_c9546040_8459_11e9_abf5_0242ac1c0002row18_col0\" class=\"data row18 col0\" >15</td>\n",
              "                        <td id=\"T_c9546040_8459_11e9_abf5_0242ac1c0002row18_col1\" class=\"data row18 col1\" >2</td>\n",
              "                        <td id=\"T_c9546040_8459_11e9_abf5_0242ac1c0002row18_col2\" class=\"data row18 col2\" >15</td>\n",
              "                        <td id=\"T_c9546040_8459_11e9_abf5_0242ac1c0002row18_col3\" class=\"data row18 col3\" >32</td>\n",
              "            </tr>\n",
              "            <tr>\n",
              "                        <th id=\"T_c9546040_8459_11e9_abf5_0242ac1c0002level0_row19\" class=\"row_heading level0 row19\" >20</th>\n",
              "                        <td id=\"T_c9546040_8459_11e9_abf5_0242ac1c0002row19_col0\" class=\"data row19 col0\" >12</td>\n",
              "                        <td id=\"T_c9546040_8459_11e9_abf5_0242ac1c0002row19_col1\" class=\"data row19 col1\" >2</td>\n",
              "                        <td id=\"T_c9546040_8459_11e9_abf5_0242ac1c0002row19_col2\" class=\"data row19 col2\" >12</td>\n",
              "                        <td id=\"T_c9546040_8459_11e9_abf5_0242ac1c0002row19_col3\" class=\"data row19 col3\" >26</td>\n",
              "            </tr>\n",
              "            <tr>\n",
              "                        <th id=\"T_c9546040_8459_11e9_abf5_0242ac1c0002level0_row20\" class=\"row_heading level0 row20\" >21</th>\n",
              "                        <td id=\"T_c9546040_8459_11e9_abf5_0242ac1c0002row20_col0\" class=\"data row20 col0\" >7</td>\n",
              "                        <td id=\"T_c9546040_8459_11e9_abf5_0242ac1c0002row20_col1\" class=\"data row20 col1\" >1</td>\n",
              "                        <td id=\"T_c9546040_8459_11e9_abf5_0242ac1c0002row20_col2\" class=\"data row20 col2\" >6</td>\n",
              "                        <td id=\"T_c9546040_8459_11e9_abf5_0242ac1c0002row20_col3\" class=\"data row20 col3\" >14</td>\n",
              "            </tr>\n",
              "            <tr>\n",
              "                        <th id=\"T_c9546040_8459_11e9_abf5_0242ac1c0002level0_row21\" class=\"row_heading level0 row21\" >22</th>\n",
              "                        <td id=\"T_c9546040_8459_11e9_abf5_0242ac1c0002row21_col0\" class=\"data row21 col0\" >3</td>\n",
              "                        <td id=\"T_c9546040_8459_11e9_abf5_0242ac1c0002row21_col1\" class=\"data row21 col1\" >0</td>\n",
              "                        <td id=\"T_c9546040_8459_11e9_abf5_0242ac1c0002row21_col2\" class=\"data row21 col2\" >3</td>\n",
              "                        <td id=\"T_c9546040_8459_11e9_abf5_0242ac1c0002row21_col3\" class=\"data row21 col3\" >6</td>\n",
              "            </tr>\n",
              "            <tr>\n",
              "                        <th id=\"T_c9546040_8459_11e9_abf5_0242ac1c0002level0_row22\" class=\"row_heading level0 row22\" >23</th>\n",
              "                        <td id=\"T_c9546040_8459_11e9_abf5_0242ac1c0002row22_col0\" class=\"data row22 col0\" >6</td>\n",
              "                        <td id=\"T_c9546040_8459_11e9_abf5_0242ac1c0002row22_col1\" class=\"data row22 col1\" >0</td>\n",
              "                        <td id=\"T_c9546040_8459_11e9_abf5_0242ac1c0002row22_col2\" class=\"data row22 col2\" >3</td>\n",
              "                        <td id=\"T_c9546040_8459_11e9_abf5_0242ac1c0002row22_col3\" class=\"data row22 col3\" >9</td>\n",
              "            </tr>\n",
              "            <tr>\n",
              "                        <th id=\"T_c9546040_8459_11e9_abf5_0242ac1c0002level0_row23\" class=\"row_heading level0 row23\" >24</th>\n",
              "                        <td id=\"T_c9546040_8459_11e9_abf5_0242ac1c0002row23_col0\" class=\"data row23 col0\" >1</td>\n",
              "                        <td id=\"T_c9546040_8459_11e9_abf5_0242ac1c0002row23_col1\" class=\"data row23 col1\" >0</td>\n",
              "                        <td id=\"T_c9546040_8459_11e9_abf5_0242ac1c0002row23_col2\" class=\"data row23 col2\" >1</td>\n",
              "                        <td id=\"T_c9546040_8459_11e9_abf5_0242ac1c0002row23_col3\" class=\"data row23 col3\" >2</td>\n",
              "            </tr>\n",
              "            <tr>\n",
              "                        <th id=\"T_c9546040_8459_11e9_abf5_0242ac1c0002level0_row24\" class=\"row_heading level0 row24\" >25</th>\n",
              "                        <td id=\"T_c9546040_8459_11e9_abf5_0242ac1c0002row24_col0\" class=\"data row24 col0\" >1</td>\n",
              "                        <td id=\"T_c9546040_8459_11e9_abf5_0242ac1c0002row24_col1\" class=\"data row24 col1\" >0</td>\n",
              "                        <td id=\"T_c9546040_8459_11e9_abf5_0242ac1c0002row24_col2\" class=\"data row24 col2\" >0</td>\n",
              "                        <td id=\"T_c9546040_8459_11e9_abf5_0242ac1c0002row24_col3\" class=\"data row24 col3\" >1</td>\n",
              "            </tr>\n",
              "            <tr>\n",
              "                        <th id=\"T_c9546040_8459_11e9_abf5_0242ac1c0002level0_row25\" class=\"row_heading level0 row25\" >26</th>\n",
              "                        <td id=\"T_c9546040_8459_11e9_abf5_0242ac1c0002row25_col0\" class=\"data row25 col0\" >0</td>\n",
              "                        <td id=\"T_c9546040_8459_11e9_abf5_0242ac1c0002row25_col1\" class=\"data row25 col1\" >0</td>\n",
              "                        <td id=\"T_c9546040_8459_11e9_abf5_0242ac1c0002row25_col2\" class=\"data row25 col2\" >1</td>\n",
              "                        <td id=\"T_c9546040_8459_11e9_abf5_0242ac1c0002row25_col3\" class=\"data row25 col3\" >1</td>\n",
              "            </tr>\n",
              "            <tr>\n",
              "                        <th id=\"T_c9546040_8459_11e9_abf5_0242ac1c0002level0_row26\" class=\"row_heading level0 row26\" >27</th>\n",
              "                        <td id=\"T_c9546040_8459_11e9_abf5_0242ac1c0002row26_col0\" class=\"data row26 col0\" >1</td>\n",
              "                        <td id=\"T_c9546040_8459_11e9_abf5_0242ac1c0002row26_col1\" class=\"data row26 col1\" >0</td>\n",
              "                        <td id=\"T_c9546040_8459_11e9_abf5_0242ac1c0002row26_col2\" class=\"data row26 col2\" >1</td>\n",
              "                        <td id=\"T_c9546040_8459_11e9_abf5_0242ac1c0002row26_col3\" class=\"data row26 col3\" >2</td>\n",
              "            </tr>\n",
              "            <tr>\n",
              "                        <th id=\"T_c9546040_8459_11e9_abf5_0242ac1c0002level0_row27\" class=\"row_heading level0 row27\" >29</th>\n",
              "                        <td id=\"T_c9546040_8459_11e9_abf5_0242ac1c0002row27_col0\" class=\"data row27 col0\" >1</td>\n",
              "                        <td id=\"T_c9546040_8459_11e9_abf5_0242ac1c0002row27_col1\" class=\"data row27 col1\" >0</td>\n",
              "                        <td id=\"T_c9546040_8459_11e9_abf5_0242ac1c0002row27_col2\" class=\"data row27 col2\" >0</td>\n",
              "                        <td id=\"T_c9546040_8459_11e9_abf5_0242ac1c0002row27_col3\" class=\"data row27 col3\" >1</td>\n",
              "            </tr>\n",
              "            <tr>\n",
              "                        <th id=\"T_c9546040_8459_11e9_abf5_0242ac1c0002level0_row28\" class=\"row_heading level0 row28\" >All</th>\n",
              "                        <td id=\"T_c9546040_8459_11e9_abf5_0242ac1c0002row28_col0\" class=\"data row28 col0\" >1307</td>\n",
              "                        <td id=\"T_c9546040_8459_11e9_abf5_0242ac1c0002row28_col1\" class=\"data row28 col1\" >1342</td>\n",
              "                        <td id=\"T_c9546040_8459_11e9_abf5_0242ac1c0002row28_col2\" class=\"data row28 col2\" >1528</td>\n",
              "                        <td id=\"T_c9546040_8459_11e9_abf5_0242ac1c0002row28_col3\" class=\"data row28 col3\" >4177</td>\n",
              "            </tr>\n",
              "    </tbody></table>"
            ],
            "text/plain": [
              "<pandas.io.formats.style.Styler at 0x7f2f683b3208>"
            ]
          },
          "metadata": {
            "tags": []
          },
          "execution_count": 38
        }
      ]
    },
    {
      "cell_type": "code",
      "metadata": {
        "id": "yTzgqWWooSOh",
        "colab_type": "code",
        "colab": {
          "base_uri": "https://localhost:8080/",
          "height": 382
        },
        "outputId": "830d64a5-f019-47bc-d219-4916dbfbedc5"
      },
      "source": [
        "sns.catplot('sex','rings', kind='swarm', data=data)"
      ],
      "execution_count": 41,
      "outputs": [
        {
          "output_type": "execute_result",
          "data": {
            "text/plain": [
              "<seaborn.axisgrid.FacetGrid at 0x7f2f67d80ba8>"
            ]
          },
          "metadata": {
            "tags": []
          },
          "execution_count": 41
        },
        {
          "output_type": "display_data",
          "data": {
            "image/png": "[encoded data removed]",
            "text/plain": [
              "<Figure size 360x360 with 1 Axes>"
            ]
          },
          "metadata": {
            "tags": []
          }
        }
      ]
    },
    {
      "cell_type": "code",
      "metadata": {
        "id": "EjoHR84qpQ8s",
        "colab_type": "code",
        "colab": {
          "base_uri": "https://localhost:8080/",
          "height": 291
        },
        "outputId": "f4c7b415-8242-48f6-d866-7434c38252e7"
      },
      "source": [
        "sns.distplot(data['length']);"
      ],
      "execution_count": 42,
      "outputs": [
        {
          "output_type": "display_data",
          "data": {
            "image/png": "[encoded data removed]",
            "text/plain": [
              "<Figure size 432x288 with 1 Axes>"
            ]
          },
          "metadata": {
            "tags": []
          }
        }
      ]
    },
    {
      "cell_type": "code",
      "metadata": {
        "id": "URNFYuqdrAj7",
        "colab_type": "code",
        "colab": {
          "base_uri": "https://localhost:8080/",
          "height": 291
        },
        "outputId": "fc13d386-dadf-43d5-d126-f4cbce73bbb1"
      },
      "source": [
        "sns.distplot(data['rings']);"
      ],
      "execution_count": 44,
      "outputs": [
        {
          "output_type": "display_data",
          "data": {
            "image/png": "[encoded data removed]",
            "text/plain": [
              "<Figure size 432x288 with 1 Axes>"
            ]
          },
          "metadata": {
            "tags": []
          }
        }
      ]
    },
    {
      "cell_type": "code",
      "metadata": {
        "id": "01N3-iCXrFMD",
        "colab_type": "code",
        "colab": {
          "base_uri": "https://localhost:8080/",
          "height": 291
        },
        "outputId": "ff34419e-1395-4668-99aa-57b061739793"
      },
      "source": [
        "sns.distplot(data['diameter']);"
      ],
      "execution_count": 46,
      "outputs": [
        {
          "output_type": "display_data",
          "data": {
            "image/png": "[encoded data removed]",
            "text/plain": [
              "<Figure size 432x288 with 1 Axes>"
            ]
          },
          "metadata": {
            "tags": []
          }
        }
      ]
    },
    {
      "cell_type": "code",
      "metadata": {
        "id": "HLDCELh6rO56",
        "colab_type": "code",
        "colab": {}
      },
      "source": [
        ""
      ],
      "execution_count": 0,
      "outputs": []
    }
  ]
}